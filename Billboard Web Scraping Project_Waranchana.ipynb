{
 "cells": [
  {
   "attachments": {},
   "cell_type": "markdown",
   "metadata": {
    "datalore": {
     "hide_input_from_viewers": false,
     "hide_output_from_viewers": false,
     "node_id": "AJxKcvndWiKfKdFHkmkKgE",
     "report_properties": {
      "y": 0
     },
     "type": "MD"
    }
   },
   "source": [
    "# Web Scraping Project\n",
    "## Billboard Decade-End Chats Hot 100 Songs (2010s)\n",
    "\n",
    "**By**: `Waranchana Ratiruetayawong (Cher)`\n",
    "\n",
    "**Date**: 25 January 2023"
   ]
  },
  {
   "attachments": {},
   "cell_type": "markdown",
   "metadata": {
    "datalore": {
     "hide_input_from_viewers": false,
     "hide_output_from_viewers": false,
     "node_id": "NYo7JEmOsMndcWS17oUNjR",
     "report_properties": {
      "y": 6
     },
     "type": "MD"
    }
   },
   "source": [
    "## Part 1: Access to Webpage"
   ]
  },
  {
   "cell_type": "code",
   "execution_count": 1,
   "metadata": {
    "datalore": {
     "hide_input_from_viewers": false,
     "hide_output_from_viewers": false,
     "node_id": "r4aKUQEbkDIT5lfiaTqWfC",
     "report_properties": {
      "y": 9
     },
     "type": "CODE"
    },
    "vscode": {
     "languageId": "python"
    }
   },
   "outputs": [],
   "source": [
    "#import requests and BeautifulSoup libraries\n",
    "import requests\n",
    "from bs4 import BeautifulSoup"
   ]
  },
  {
   "cell_type": "code",
   "execution_count": 2,
   "metadata": {
    "datalore": {
     "hide_input_from_viewers": false,
     "hide_output_from_viewers": false,
     "node_id": "FIKK8VsznK8U38Blr5x8pC",
     "report_properties": {
      "y": 13
     },
     "type": "CODE"
    },
    "vscode": {
     "languageId": "python"
    }
   },
   "outputs": [],
   "source": [
    "#get the HTML using requests\n",
    "url = 'https://www.billboard.com/charts/decade-end/hot-100/'\n",
    "response = requests.get(url)\n",
    "content = response.content\n",
    "soup = BeautifulSoup(content,\"html.parser\")"
   ]
  },
  {
   "cell_type": "code",
   "execution_count": 3,
   "metadata": {
    "datalore": {
     "hide_input_from_viewers": false,
     "hide_output_from_viewers": false,
     "node_id": "5a7iWmZSYiDNqiayPJHCm7",
     "report_properties": {
      "y": 31
     },
     "type": "CODE"
    },
    "vscode": {
     "languageId": "python"
    }
   },
   "outputs": [
    {
     "name": "stdout",
     "output_type": "stream",
     "text": [
      "<title>Hot 100 Songs – Billboard</title>\n"
     ]
    }
   ],
   "source": [
    "#show title of webpage\n",
    "print(soup.title)"
   ]
  },
  {
   "cell_type": "code",
   "execution_count": null,
   "metadata": {
    "vscode": {
     "languageId": "python"
    }
   },
   "outputs": [],
   "source": []
  },
  {
   "attachments": {},
   "cell_type": "markdown",
   "metadata": {
    "datalore": {
     "hide_input_from_viewers": false,
     "hide_output_from_viewers": false,
     "node_id": "dwIYBg39VcDrtwAc3Ab9uo",
     "report_properties": {
      "y": 35
     },
     "type": "MD"
    }
   },
   "source": [
    "## Part 2: Format Data"
   ]
  },
  {
   "cell_type": "code",
   "execution_count": 5,
   "metadata": {
    "datalore": {
     "hide_input_from_viewers": false,
     "hide_output_from_viewers": false,
     "node_id": "vIBrOYPV0bW89YAp9CgkLt",
     "report_properties": {
      "y": 38
     },
     "type": "CODE"
    },
    "vscode": {
     "languageId": "python"
    }
   },
   "outputs": [
    {
     "data": {
      "text/plain": [
       "[{'no': 1,\n",
       "  'song_name': 'Uptown Funk!',\n",
       "  'artist': 'Mark Ronson Featuring Bruno Mars',\n",
       "  'peak_date': '01/17/2015'},\n",
       " {'no': 2,\n",
       "  'song_name': 'Party Rock Anthem',\n",
       "  'artist': 'LMFAO Featuring Lauren Bennett & GoonRock',\n",
       "  'peak_date': '07/16/2011'},\n",
       " {'no': 3,\n",
       "  'song_name': 'Shape Of You',\n",
       "  'artist': 'Ed Sheeran',\n",
       "  'peak_date': '01/28/2017'},\n",
       " {'no': 4,\n",
       "  'song_name': 'Closer',\n",
       "  'artist': 'The Chainsmokers Featuring Halsey',\n",
       "  'peak_date': '09/03/2016'},\n",
       " {'no': 5,\n",
       "  'song_name': 'Girls Like You',\n",
       "  'artist': 'Maroon 5 Featuring Cardi B',\n",
       "  'peak_date': '09/29/2018'},\n",
       " {'no': 6,\n",
       "  'song_name': 'We Found Love',\n",
       "  'artist': 'Rihanna Featuring Calvin Harris',\n",
       "  'peak_date': '11/12/2011'},\n",
       " {'no': 7,\n",
       "  'song_name': 'Old Town Road',\n",
       "  'artist': 'Lil Nas X Featuring Billy Ray Cyrus',\n",
       "  'peak_date': '04/13/2019'},\n",
       " {'no': 8,\n",
       "  'song_name': 'Somebody That I Used To Know',\n",
       "  'artist': 'Gotye Featuring Kimbra',\n",
       "  'peak_date': '04/28/2012'},\n",
       " {'no': 9,\n",
       "  'song_name': 'Despacito',\n",
       "  'artist': 'Luis Fonsi & Daddy Yankee Featuring Justin Bieber',\n",
       "  'peak_date': '05/27/2017'},\n",
       " {'no': 10,\n",
       "  'song_name': 'Rolling In The Deep',\n",
       "  'artist': 'Adele',\n",
       "  'peak_date': '05/21/2011'},\n",
       " {'no': 11,\n",
       "  'song_name': 'Sunflower (Spider-Man: Into The Spider-Verse)',\n",
       "  'artist': 'Post Malone & Swae Lee',\n",
       "  'peak_date': '01/19/2019'},\n",
       " {'no': 12,\n",
       "  'song_name': 'Without Me',\n",
       "  'artist': 'Halsey',\n",
       "  'peak_date': '01/12/2019'},\n",
       " {'no': 13,\n",
       "  'song_name': 'Call Me Maybe',\n",
       "  'artist': 'Carly Rae Jepsen',\n",
       "  'peak_date': '06/23/2012'},\n",
       " {'no': 14,\n",
       "  'song_name': 'Blurred Lines',\n",
       "  'artist': 'Robin Thicke Featuring T.I. + Pharrell',\n",
       "  'peak_date': '06/22/2013'},\n",
       " {'no': 15,\n",
       "  'song_name': 'Perfect',\n",
       "  'artist': 'Ed Sheeran',\n",
       "  'peak_date': '12/23/2017'},\n",
       " {'no': 16,\n",
       "  'song_name': 'Sicko Mode',\n",
       "  'artist': 'Travis Scott',\n",
       "  'peak_date': '12/08/2018'},\n",
       " {'no': 17,\n",
       "  'song_name': 'All About That Bass',\n",
       "  'artist': 'Meghan Trainor',\n",
       "  'peak_date': '09/20/2014'},\n",
       " {'no': 18,\n",
       "  'song_name': 'Royals',\n",
       "  'artist': 'Lorde',\n",
       "  'peak_date': '10/12/2013'},\n",
       " {'no': 19,\n",
       "  'song_name': \"God's Plan\",\n",
       "  'artist': 'Drake',\n",
       "  'peak_date': '02/03/2018'},\n",
       " {'no': 20,\n",
       "  'song_name': 'Moves Like Jagger',\n",
       "  'artist': 'Maroon 5 Featuring Christina Aguilera',\n",
       "  'peak_date': '09/10/2011'},\n",
       " {'no': 21,\n",
       "  'song_name': 'Happy',\n",
       "  'artist': 'Pharrell Williams',\n",
       "  'peak_date': '03/08/2014'},\n",
       " {'no': 22,\n",
       "  'song_name': 'Just The Way You Are',\n",
       "  'artist': 'Bruno Mars',\n",
       "  'peak_date': '10/02/2010'},\n",
       " {'no': 23,\n",
       "  'song_name': 'Rockstar',\n",
       "  'artist': 'Post Malone Featuring 21 Savage',\n",
       "  'peak_date': '10/28/2017'},\n",
       " {'no': 24,\n",
       "  'song_name': 'TiK ToK',\n",
       "  'artist': 'Ke$ha',\n",
       "  'peak_date': '01/02/2010'},\n",
       " {'no': 25,\n",
       "  'song_name': 'See You Again',\n",
       "  'artist': 'Wiz Khalifa Featuring Charlie Puth',\n",
       "  'peak_date': '04/25/2015'},\n",
       " {'no': 26,\n",
       "  'song_name': 'Dark Horse',\n",
       "  'artist': 'Katy Perry Featuring Juicy J',\n",
       "  'peak_date': '02/08/2014'},\n",
       " {'no': 27,\n",
       "  'song_name': 'Thrift Shop',\n",
       "  'artist': 'Macklemore & Ryan Lewis Featuring Wanz',\n",
       "  'peak_date': '02/02/2013'},\n",
       " {'no': 28,\n",
       "  'song_name': 'One More Night',\n",
       "  'artist': 'Maroon 5',\n",
       "  'peak_date': '09/29/2012'},\n",
       " {'no': 29,\n",
       "  'song_name': 'We Are Young',\n",
       "  'artist': 'fun. Featuring Janelle Monae',\n",
       "  'peak_date': '03/17/2012'},\n",
       " {'no': 30,\n",
       "  'song_name': \"That's What I Like\",\n",
       "  'artist': 'Bruno Mars',\n",
       "  'peak_date': '05/13/2017'},\n",
       " {'no': 31,\n",
       "  'song_name': 'The Hills',\n",
       "  'artist': 'The Weeknd',\n",
       "  'peak_date': '10/03/2015'},\n",
       " {'no': 32,\n",
       "  'song_name': 'All Of Me',\n",
       "  'artist': 'John Legend',\n",
       "  'peak_date': '05/17/2014'},\n",
       " {'no': 33,\n",
       "  'song_name': 'Happier',\n",
       "  'artist': 'Marshmello & Bastille',\n",
       "  'peak_date': '02/16/2019'},\n",
       " {'no': 34,\n",
       "  'song_name': 'Shake It Off',\n",
       "  'artist': 'Taylor Swift',\n",
       "  'peak_date': '09/06/2014'},\n",
       " {'no': 35,\n",
       "  'song_name': 'One Dance',\n",
       "  'artist': 'Drake Featuring WizKid & Kyla',\n",
       "  'peak_date': '05/21/2016'},\n",
       " {'no': 36,\n",
       "  'song_name': 'Radioactive',\n",
       "  'artist': 'Imagine Dragons',\n",
       "  'peak_date': '07/06/2013'},\n",
       " {'no': 37,\n",
       "  'song_name': 'Sexy And I Know It',\n",
       "  'artist': 'LMFAO',\n",
       "  'peak_date': '01/07/2012'},\n",
       " {'no': 38,\n",
       "  'song_name': 'Someone Like You',\n",
       "  'artist': 'Adele',\n",
       "  'peak_date': '09/17/2011'},\n",
       " {'no': 39,\n",
       "  'song_name': 'Counting Stars',\n",
       "  'artist': 'OneRepublic',\n",
       "  'peak_date': '01/18/2014'},\n",
       " {'no': 40,\n",
       "  'song_name': 'E.T.',\n",
       "  'artist': 'Katy Perry Featuring Kanye West',\n",
       "  'peak_date': '04/09/2011'},\n",
       " {'no': 41,\n",
       "  'song_name': 'Trap Queen',\n",
       "  'artist': 'Fetty Wap',\n",
       "  'peak_date': '05/16/2015'},\n",
       " {'no': 42,\n",
       "  'song_name': 'Love Yourself',\n",
       "  'artist': 'Justin Bieber',\n",
       "  'peak_date': '02/13/2016'},\n",
       " {'no': 43,\n",
       "  'song_name': 'Firework',\n",
       "  'artist': 'Katy Perry',\n",
       "  'peak_date': '12/18/2010'},\n",
       " {'no': 44,\n",
       "  'song_name': 'Give Me Everything',\n",
       "  'artist': 'Pitbull Featuring Ne-Yo, Afrojack & Nayer',\n",
       "  'peak_date': '07/09/2011'},\n",
       " {'no': 45,\n",
       "  'song_name': 'Locked Out Of Heaven',\n",
       "  'artist': 'Bruno Mars',\n",
       "  'peak_date': '12/22/2012'},\n",
       " {'no': 46,\n",
       "  'song_name': 'Love The Way You Lie',\n",
       "  'artist': 'Eminem Featuring Rihanna',\n",
       "  'peak_date': '07/31/2010'},\n",
       " {'no': 47,\n",
       "  'song_name': 'Thinking Out Loud',\n",
       "  'artist': 'Ed Sheeran',\n",
       "  'peak_date': '01/31/2015'},\n",
       " {'no': 48,\n",
       "  'song_name': 'Sorry',\n",
       "  'artist': 'Justin Bieber',\n",
       "  'peak_date': '01/23/2016'},\n",
       " {'no': 49,\n",
       "  'song_name': 'California Gurls',\n",
       "  'artist': 'Katy Perry Featuring Snoop Dogg',\n",
       "  'peak_date': '06/19/2010'},\n",
       " {'no': 50,\n",
       "  'song_name': 'Dynamite',\n",
       "  'artist': 'Taio Cruz',\n",
       "  'peak_date': '08/21/2010'},\n",
       " {'no': 51,\n",
       "  'song_name': 'Lucid Dreams',\n",
       "  'artist': 'Juice WRLD',\n",
       "  'peak_date': '10/06/2018'},\n",
       " {'no': 52,\n",
       "  'song_name': 'Hello',\n",
       "  'artist': 'Adele',\n",
       "  'peak_date': '11/14/2015'},\n",
       " {'no': 53,\n",
       "  'song_name': 'Work',\n",
       "  'artist': 'Rihanna Featuring Drake',\n",
       "  'peak_date': '03/05/2016'},\n",
       " {'no': 54,\n",
       "  'song_name': 'Grenade',\n",
       "  'artist': 'Bruno Mars',\n",
       "  'peak_date': '01/08/2011'},\n",
       " {'no': 55,\n",
       "  'song_name': 'Hey, Soul Sister',\n",
       "  'artist': 'Train',\n",
       "  'peak_date': '04/10/2010'},\n",
       " {'no': 56,\n",
       "  'song_name': 'I Like It',\n",
       "  'artist': 'Cardi B, Bad Bunny & J Balvin',\n",
       "  'peak_date': '07/07/2018'},\n",
       " {'no': 57,\n",
       "  'song_name': 'Wake Me Up!',\n",
       "  'artist': 'Avicii',\n",
       "  'peak_date': '10/05/2013'},\n",
       " {'no': 58,\n",
       "  'song_name': \"Don't Let Me Down\",\n",
       "  'artist': 'The Chainsmokers Featuring Daya',\n",
       "  'peak_date': '07/16/2016'},\n",
       " {'no': 59,\n",
       "  'song_name': 'Havana',\n",
       "  'artist': 'Camila Cabello Featuring Young Thug',\n",
       "  'peak_date': '01/27/2018'},\n",
       " {'no': 60,\n",
       "  'song_name': 'OMG',\n",
       "  'artist': 'Usher Featuring will.i.am',\n",
       "  'peak_date': '05/15/2010'},\n",
       " {'no': 61,\n",
       "  'song_name': 'Bad Guy',\n",
       "  'artist': 'Billie Eilish',\n",
       "  'peak_date': '08/24/2019'},\n",
       " {'no': 62,\n",
       "  'song_name': 'Fancy',\n",
       "  'artist': 'Iggy Azalea Featuring Charli XCX',\n",
       "  'peak_date': '06/07/2014'},\n",
       " {'no': 63,\n",
       "  'song_name': \"Can't Feel My Face\",\n",
       "  'artist': 'The Weeknd',\n",
       "  'peak_date': '08/22/2015'},\n",
       " {'no': 64,\n",
       "  'song_name': 'Wow.',\n",
       "  'artist': 'Post Malone',\n",
       "  'peak_date': '04/06/2019'},\n",
       " {'no': 65,\n",
       "  'song_name': 'Blank Space',\n",
       "  'artist': 'Taylor Swift',\n",
       "  'peak_date': '11/29/2014'},\n",
       " {'no': 66,\n",
       "  'song_name': 'Cheap Thrills',\n",
       "  'artist': 'Sia Featuring Sean Paul',\n",
       "  'peak_date': '08/06/2016'},\n",
       " {'no': 67,\n",
       "  'song_name': 'Some Nights',\n",
       "  'artist': 'fun.',\n",
       "  'peak_date': '09/29/2012'},\n",
       " {'no': 68,\n",
       "  'song_name': 'Need You Now',\n",
       "  'artist': 'Lady Antebellum',\n",
       "  'peak_date': '03/20/2010'},\n",
       " {'no': 69,\n",
       "  'song_name': '7 Rings',\n",
       "  'artist': 'Ariana Grande',\n",
       "  'peak_date': '02/02/2019'},\n",
       " {'no': 70,\n",
       "  'song_name': 'Stay With Me',\n",
       "  'artist': 'Sam Smith',\n",
       "  'peak_date': '08/16/2014'},\n",
       " {'no': 71,\n",
       "  'song_name': \"Can't Hold Us\",\n",
       "  'artist': 'Macklemore & Ryan Lewis Featuring Ray Dalton',\n",
       "  'peak_date': '05/18/2013'},\n",
       " {'no': 72,\n",
       "  'song_name': 'Better Now',\n",
       "  'artist': 'Post Malone',\n",
       "  'peak_date': '10/06/2018'},\n",
       " {'no': 73,\n",
       "  'song_name': 'Roar',\n",
       "  'artist': 'Katy Perry',\n",
       "  'peak_date': '09/14/2013'},\n",
       " {'no': 74,\n",
       "  'song_name': 'Rude',\n",
       "  'artist': 'MAGIC!',\n",
       "  'peak_date': '07/26/2014'},\n",
       " {'no': 75,\n",
       "  'song_name': 'Thank U, Next',\n",
       "  'artist': 'Ariana Grande',\n",
       "  'peak_date': '11/17/2018'},\n",
       " {'no': 76,\n",
       "  'song_name': 'Sugar',\n",
       "  'artist': 'Maroon 5',\n",
       "  'peak_date': '03/28/2015'},\n",
       " {'no': 77,\n",
       "  'song_name': 'Payphone',\n",
       "  'artist': 'Maroon 5 Featuring Wiz Khalifa',\n",
       "  'peak_date': '05/26/2012'},\n",
       " {'no': 78,\n",
       "  'song_name': 'Airplanes',\n",
       "  'artist': 'B.o.B Featuring Hayley Williams',\n",
       "  'peak_date': '06/05/2010'},\n",
       " {'no': 79,\n",
       "  'song_name': 'Psycho',\n",
       "  'artist': 'Post Malone Featuring Ty Dolla $ign',\n",
       "  'peak_date': '06/16/2018'},\n",
       " {'no': 80,\n",
       "  'song_name': 'Bodak Yellow (Money Moves)',\n",
       "  'artist': 'Cardi B',\n",
       "  'peak_date': '10/07/2017'},\n",
       " {'no': 81,\n",
       "  'song_name': 'Watch Me',\n",
       "  'artist': 'Silento',\n",
       "  'peak_date': '07/18/2015'},\n",
       " {'no': 82,\n",
       "  'song_name': \"Can't Stop The Feeling!\",\n",
       "  'artist': 'Justin Timberlake',\n",
       "  'peak_date': '05/28/2016'},\n",
       " {'no': 83,\n",
       "  'song_name': 'Cheerleader',\n",
       "  'artist': 'OMI',\n",
       "  'peak_date': '07/25/2015'},\n",
       " {'no': 84,\n",
       "  'song_name': 'Bad Romance',\n",
       "  'artist': 'Lady Gaga',\n",
       "  'peak_date': '12/05/2009'},\n",
       " {'no': 85,\n",
       "  'song_name': \"Stronger (What Doesn't Kill You)\",\n",
       "  'artist': 'Kelly Clarkson',\n",
       "  'peak_date': '02/18/2012'},\n",
       " {'no': 86,\n",
       "  'song_name': 'What Do You Mean?',\n",
       "  'artist': 'Justin Bieber',\n",
       "  'peak_date': '09/19/2015'},\n",
       " {'no': 87,\n",
       "  'song_name': 'Nice For What',\n",
       "  'artist': 'Drake',\n",
       "  'peak_date': '04/21/2018'},\n",
       " {'no': 88,\n",
       "  'song_name': 'Sucker',\n",
       "  'artist': 'Jonas Brothers',\n",
       "  'peak_date': '03/16/2019'},\n",
       " {'no': 89,\n",
       "  'song_name': 'Meant To Be',\n",
       "  'artist': 'Bebe Rexha & Florida Georgia Line',\n",
       "  'peak_date': '03/31/2018'},\n",
       " {'no': 90,\n",
       "  'song_name': 'Timber',\n",
       "  'artist': 'Pitbull Featuring Ke$ha',\n",
       "  'peak_date': '01/18/2014'},\n",
       " {'no': 91,\n",
       "  'song_name': 'Take Me To Church',\n",
       "  'artist': 'Hozier',\n",
       "  'peak_date': '12/20/2014'},\n",
       " {'no': 92,\n",
       "  'song_name': 'Hotline Bling',\n",
       "  'artist': 'Drake',\n",
       "  'peak_date': '10/24/2015'},\n",
       " {'no': 93,\n",
       "  'song_name': 'Heathens',\n",
       "  'artist': 'twenty one pilots',\n",
       "  'peak_date': '09/24/2016'},\n",
       " {'no': 94,\n",
       "  'song_name': 'Super Bass',\n",
       "  'artist': 'Nicki Minaj',\n",
       "  'peak_date': '08/13/2011'},\n",
       " {'no': 95,\n",
       "  'song_name': 'F**k You! (Forget You)',\n",
       "  'artist': 'CeeLo Green',\n",
       "  'peak_date': '03/05/2011'},\n",
       " {'no': 96,\n",
       "  'song_name': 'Panda',\n",
       "  'artist': 'Desiigner',\n",
       "  'peak_date': '05/07/2016'},\n",
       " {'no': 97,\n",
       "  'song_name': 'Break Your Heart',\n",
       "  'artist': 'Taio Cruz Featuring Ludacris',\n",
       "  'peak_date': '03/20/2010'},\n",
       " {'no': 98,\n",
       "  'song_name': 'In My Feelings',\n",
       "  'artist': 'Drake',\n",
       "  'peak_date': '07/21/2018'},\n",
       " {'no': 99,\n",
       "  'song_name': 'Wrecking Ball',\n",
       "  'artist': 'Miley Cyrus',\n",
       "  'peak_date': '09/28/2013'},\n",
       " {'no': 100,\n",
       "  'song_name': 'Ho Hey',\n",
       "  'artist': 'The Lumineers',\n",
       "  'peak_date': '12/29/2012'}]"
      ]
     },
     "metadata": {},
     "output_type": "display_data"
    }
   ],
   "source": [
    "\n",
    "#find the HTML tags which store all needed information\n",
    "bb_top100 = soup.find_all(\"div\",attrs={\"class\": \"o-chart-results-list-row-container\"})\n",
    "\n",
    "#extract data from webpage and create list elements using for loop\n",
    "top100_10s =[]\n",
    "for  index, item in enumerate(bb_top100):\n",
    "    dataframe ={}\n",
    "    dataframe[\"no\"] = index + 1\n",
    "    dataframe[\"song_name\"] = (item.find(\"h3\",attrs={\"id\": \"title-of-a-story\"})).text.replace('\\t', '').replace('\\n', '')\n",
    "    dataframe[\"artist\"] = (item.find_all(\"span\",attrs={\"class\": \"c-label\"}))[1].text.replace('\\t', '').replace('\\n', '')\n",
    "    dataframe[\"peak_date\"] = (item.find_all(\"span\",attrs={\"class\": \"c-label\"}))[5].text.replace('\\t', '').replace('\\n', '')\n",
    "    top100_10s.append(dataframe)\n",
    "top100_10s"
   ]
  },
  {
   "attachments": {},
   "cell_type": "markdown",
   "metadata": {
    "datalore": {
     "hide_input_from_viewers": false,
     "hide_output_from_viewers": false,
     "node_id": "bAl3rB6Rm2Z6mJe33us9CV",
     "report_properties": {
      "y": 57
     },
     "type": "MD"
    }
   },
   "source": [
    "## Part 3: Save Data in a Readable Format"
   ]
  },
  {
   "cell_type": "code",
   "execution_count": 6,
   "metadata": {
    "datalore": {
     "hide_input_from_viewers": false,
     "hide_output_from_viewers": false,
     "node_id": "YEeWOxh69ltoDLEFNmC8qs",
     "report_properties": {
      "y": 60
     },
     "type": "CODE"
    },
    "vscode": {
     "languageId": "python"
    }
   },
   "outputs": [],
   "source": [
    "#import pandas and convert list to dataframe\n",
    "import pandas as pd\n",
    "df = pd.DataFrame(top100_10s)\n",
    "\n",
    "#save to .csv file\n",
    "df.to_csv(\"billboard_hot_100_songs_2010s.csv\",index=False)"
   ]
  },
  {
   "cell_type": "code",
   "execution_count": 7,
   "metadata": {
    "datalore": {
     "hide_input_from_viewers": false,
     "hide_output_from_viewers": false,
     "node_id": "6GigIUS87kP2y0xiFuesdn",
     "report_properties": {
      "y": 65
     },
     "type": "CODE"
    },
    "vscode": {
     "languageId": "python"
    }
   },
   "outputs": [
    {
     "data": {
      "text/html": [
       "<div>\n",
       "<style scoped>\n",
       "    .dataframe tbody tr th:only-of-type {\n",
       "        vertical-align: middle;\n",
       "    }\n",
       "\n",
       "    .dataframe tbody tr th {\n",
       "        vertical-align: top;\n",
       "    }\n",
       "\n",
       "    .dataframe thead th {\n",
       "        text-align: right;\n",
       "    }\n",
       "</style>\n",
       "<table border=\"1\" class=\"dataframe\">\n",
       "  <thead>\n",
       "    <tr style=\"text-align: right;\">\n",
       "      <th></th>\n",
       "      <th>no</th>\n",
       "      <th>song_name</th>\n",
       "      <th>artist</th>\n",
       "      <th>peak_date</th>\n",
       "    </tr>\n",
       "  </thead>\n",
       "  <tbody>\n",
       "    <tr>\n",
       "      <th>0</th>\n",
       "      <td>1</td>\n",
       "      <td>Uptown Funk!</td>\n",
       "      <td>Mark Ronson Featuring Bruno Mars</td>\n",
       "      <td>01/17/2015</td>\n",
       "    </tr>\n",
       "    <tr>\n",
       "      <th>1</th>\n",
       "      <td>2</td>\n",
       "      <td>Party Rock Anthem</td>\n",
       "      <td>LMFAO Featuring Lauren Bennett &amp; GoonRock</td>\n",
       "      <td>07/16/2011</td>\n",
       "    </tr>\n",
       "    <tr>\n",
       "      <th>2</th>\n",
       "      <td>3</td>\n",
       "      <td>Shape Of You</td>\n",
       "      <td>Ed Sheeran</td>\n",
       "      <td>01/28/2017</td>\n",
       "    </tr>\n",
       "    <tr>\n",
       "      <th>3</th>\n",
       "      <td>4</td>\n",
       "      <td>Closer</td>\n",
       "      <td>The Chainsmokers Featuring Halsey</td>\n",
       "      <td>09/03/2016</td>\n",
       "    </tr>\n",
       "    <tr>\n",
       "      <th>4</th>\n",
       "      <td>5</td>\n",
       "      <td>Girls Like You</td>\n",
       "      <td>Maroon 5 Featuring Cardi B</td>\n",
       "      <td>09/29/2018</td>\n",
       "    </tr>\n",
       "  </tbody>\n",
       "</table>\n",
       "</div>"
      ]
     },
     "metadata": {},
     "output_type": "display_data"
    }
   ],
   "source": [
    "#preview dataframe\n",
    "df.head()"
   ]
  },
  {
   "attachments": {},
   "cell_type": "markdown",
   "metadata": {
    "datalore": {
     "hide_input_from_viewers": false,
     "hide_output_from_viewers": false,
     "node_id": "uc956nTgdImvi8nmW0BUNr",
     "report_properties": {
      "y": 69
     },
     "type": "MD"
    }
   },
   "source": [
    "## Simple Analysis \n",
    " - Q1: Which year has the most top songs?\n",
    " - Q2: According to Question 1, what songs are those?\n",
    " - Q3: How many Bruno Mars's songs in the chart?"
   ]
  },
  {
   "cell_type": "code",
   "execution_count": 8,
   "metadata": {
    "datalore": {
     "hide_input_from_viewers": false,
     "hide_output_from_viewers": false,
     "node_id": "euWFK7lPv7gTvRZXhkjoMo",
     "report_properties": {
      "y": 72
     },
     "type": "CODE"
    },
    "vscode": {
     "languageId": "python"
    }
   },
   "outputs": [
    {
     "name": "stdout",
     "output_type": "stream",
     "text": [
      "<class 'pandas.core.frame.DataFrame'>\n",
      "RangeIndex: 100 entries, 0 to 99\n",
      "Data columns (total 4 columns):\n",
      " #   Column     Non-Null Count  Dtype \n",
      "---  ------     --------------  ----- \n",
      " 0   no         100 non-null    int64 \n",
      " 1   song_name  100 non-null    object\n",
      " 2   artist     100 non-null    object\n",
      " 3   peak_date  100 non-null    object\n",
      "dtypes: int64(1), object(3)\n",
      "memory usage: 3.2+ KB\n"
     ]
    }
   ],
   "source": [
    "#see dataframe information\n",
    "df.info()"
   ]
  },
  {
   "cell_type": "code",
   "execution_count": 9,
   "metadata": {
    "datalore": {
     "hide_input_from_viewers": false,
     "hide_output_from_viewers": false,
     "node_id": "e1YsA8XhzBDuZMishNOpED",
     "report_properties": {
      "y": 75
     },
     "type": "CODE"
    },
    "vscode": {
     "languageId": "python"
    }
   },
   "outputs": [
    {
     "name": "stdout",
     "output_type": "stream",
     "text": [
      "<class 'pandas.core.frame.DataFrame'>\n",
      "RangeIndex: 100 entries, 0 to 99\n",
      "Data columns (total 4 columns):\n",
      " #   Column     Non-Null Count  Dtype         \n",
      "---  ------     --------------  -----         \n",
      " 0   no         100 non-null    int64         \n",
      " 1   song_name  100 non-null    object        \n",
      " 2   artist     100 non-null    object        \n",
      " 3   peak_date  100 non-null    datetime64[ns]\n",
      "dtypes: datetime64[ns](1), int64(1), object(2)\n",
      "memory usage: 3.2+ KB\n"
     ]
    }
   ],
   "source": [
    "#convert peak_date coloumn to date type\n",
    "df['peak_date'] = pd.to_datetime(df['peak_date'])\n",
    "df.info()"
   ]
  },
  {
   "attachments": {},
   "cell_type": "markdown",
   "metadata": {
    "datalore": {
     "hide_input_from_viewers": false,
     "hide_output_from_viewers": false,
     "node_id": "7a2kcWc2vZ4lkHjclMJ8gO",
     "report_properties": {
      "y": 78
     },
     "type": "MD"
    }
   },
   "source": [
    "### Q1: Which year has the most top songs?"
   ]
  },
  {
   "cell_type": "code",
   "execution_count": 10,
   "metadata": {
    "datalore": {
     "hide_input_from_viewers": false,
     "hide_output_from_viewers": false,
     "node_id": "eJEsqaHvpoyVMXOBTZGpz1",
     "report_properties": {
      "y": 81
     },
     "type": "CODE"
    },
    "vscode": {
     "languageId": "python"
    }
   },
   "outputs": [
    {
     "data": {
      "text/plain": [
       "<AxesSubplot:>"
      ]
     },
     "metadata": {},
     "output_type": "display_data"
    },
    {
     "data": {
      "image/png": "[encoded data removed]"
     },
     "metadata": {
      "image/png": {}
     },
     "output_type": "display_data"
    }
   ],
   "source": [
    "#count top songs each year\n",
    "a = df['peak_date'].dt.year.value_counts().sort_index()\n",
    "\n",
    "#plot bar chart\n",
    "a.plot.bar(color='salmon')"
   ]
  },
  {
   "attachments": {},
   "cell_type": "markdown",
   "metadata": {
    "datalore": {
     "hide_input_from_viewers": false,
     "hide_output_from_viewers": false,
     "node_id": "JO1enFLCWco1Y2nl7Cjhgy",
     "report_properties": {
      "y": 84
     },
     "type": "MD"
    }
   },
   "source": [
    "Year 2014, 2015, and 2018 have the most top songs in decades which are 12 songs. "
   ]
  },
  {
   "attachments": {},
   "cell_type": "markdown",
   "metadata": {
    "datalore": {
     "hide_input_from_viewers": false,
     "hide_output_from_viewers": false,
     "node_id": "dhK6mgGvxF0aP90LyzLN1A",
     "report_properties": {
      "y": 87
     },
     "type": "MD"
    }
   },
   "source": [
    "### Q2: According to Question 1, what songs are those?"
   ]
  },
  {
   "cell_type": "code",
   "execution_count": 11,
   "metadata": {
    "datalore": {
     "hide_input_from_viewers": false,
     "hide_output_from_viewers": false,
     "node_id": "ohmtfJL1zfYRa9BaEKy2iM",
     "report_properties": {
      "y": 90
     },
     "type": "CODE"
    },
    "vscode": {
     "languageId": "python"
    }
   },
   "outputs": [
    {
     "data": {
      "text/html": [
       "<div>\n",
       "<style scoped>\n",
       "    .dataframe tbody tr th:only-of-type {\n",
       "        vertical-align: middle;\n",
       "    }\n",
       "\n",
       "    .dataframe tbody tr th {\n",
       "        vertical-align: top;\n",
       "    }\n",
       "\n",
       "    .dataframe thead th {\n",
       "        text-align: right;\n",
       "    }\n",
       "</style>\n",
       "<table border=\"1\" class=\"dataframe\">\n",
       "  <thead>\n",
       "    <tr style=\"text-align: right;\">\n",
       "      <th></th>\n",
       "      <th>year</th>\n",
       "      <th>song_name</th>\n",
       "      <th>artist</th>\n",
       "    </tr>\n",
       "  </thead>\n",
       "  <tbody>\n",
       "    <tr>\n",
       "      <th>0</th>\n",
       "      <td>2014</td>\n",
       "      <td>Take Me To Church</td>\n",
       "      <td>Hozier</td>\n",
       "    </tr>\n",
       "    <tr>\n",
       "      <th>1</th>\n",
       "      <td>2014</td>\n",
       "      <td>Timber</td>\n",
       "      <td>Pitbull Featuring Ke$ha</td>\n",
       "    </tr>\n",
       "    <tr>\n",
       "      <th>2</th>\n",
       "      <td>2014</td>\n",
       "      <td>All About That Bass</td>\n",
       "      <td>Meghan Trainor</td>\n",
       "    </tr>\n",
       "    <tr>\n",
       "      <th>3</th>\n",
       "      <td>2014</td>\n",
       "      <td>Rude</td>\n",
       "      <td>MAGIC!</td>\n",
       "    </tr>\n",
       "    <tr>\n",
       "      <th>4</th>\n",
       "      <td>2014</td>\n",
       "      <td>Happy</td>\n",
       "      <td>Pharrell Williams</td>\n",
       "    </tr>\n",
       "    <tr>\n",
       "      <th>5</th>\n",
       "      <td>2014</td>\n",
       "      <td>Dark Horse</td>\n",
       "      <td>Katy Perry Featuring Juicy J</td>\n",
       "    </tr>\n",
       "    <tr>\n",
       "      <th>6</th>\n",
       "      <td>2014</td>\n",
       "      <td>Stay With Me</td>\n",
       "      <td>Sam Smith</td>\n",
       "    </tr>\n",
       "    <tr>\n",
       "      <th>7</th>\n",
       "      <td>2014</td>\n",
       "      <td>All Of Me</td>\n",
       "      <td>John Legend</td>\n",
       "    </tr>\n",
       "    <tr>\n",
       "      <th>8</th>\n",
       "      <td>2014</td>\n",
       "      <td>Shake It Off</td>\n",
       "      <td>Taylor Swift</td>\n",
       "    </tr>\n",
       "    <tr>\n",
       "      <th>9</th>\n",
       "      <td>2014</td>\n",
       "      <td>Counting Stars</td>\n",
       "      <td>OneRepublic</td>\n",
       "    </tr>\n",
       "    <tr>\n",
       "      <th>10</th>\n",
       "      <td>2014</td>\n",
       "      <td>Blank Space</td>\n",
       "      <td>Taylor Swift</td>\n",
       "    </tr>\n",
       "    <tr>\n",
       "      <th>11</th>\n",
       "      <td>2014</td>\n",
       "      <td>Fancy</td>\n",
       "      <td>Iggy Azalea Featuring Charli XCX</td>\n",
       "    </tr>\n",
       "    <tr>\n",
       "      <th>12</th>\n",
       "      <td>2015</td>\n",
       "      <td>Uptown Funk!</td>\n",
       "      <td>Mark Ronson Featuring Bruno Mars</td>\n",
       "    </tr>\n",
       "    <tr>\n",
       "      <th>13</th>\n",
       "      <td>2015</td>\n",
       "      <td>Cheerleader</td>\n",
       "      <td>OMI</td>\n",
       "    </tr>\n",
       "    <tr>\n",
       "      <th>14</th>\n",
       "      <td>2015</td>\n",
       "      <td>Can't Feel My Face</td>\n",
       "      <td>The Weeknd</td>\n",
       "    </tr>\n",
       "    <tr>\n",
       "      <th>15</th>\n",
       "      <td>2015</td>\n",
       "      <td>Hotline Bling</td>\n",
       "      <td>Drake</td>\n",
       "    </tr>\n",
       "    <tr>\n",
       "      <th>16</th>\n",
       "      <td>2015</td>\n",
       "      <td>Trap Queen</td>\n",
       "      <td>Fetty Wap</td>\n",
       "    </tr>\n",
       "    <tr>\n",
       "      <th>17</th>\n",
       "      <td>2015</td>\n",
       "      <td>Hello</td>\n",
       "      <td>Adele</td>\n",
       "    </tr>\n",
       "    <tr>\n",
       "      <th>18</th>\n",
       "      <td>2015</td>\n",
       "      <td>Thinking Out Loud</td>\n",
       "      <td>Ed Sheeran</td>\n",
       "    </tr>\n",
       "    <tr>\n",
       "      <th>19</th>\n",
       "      <td>2015</td>\n",
       "      <td>Watch Me</td>\n",
       "      <td>Silento</td>\n",
       "    </tr>\n",
       "    <tr>\n",
       "      <th>20</th>\n",
       "      <td>2015</td>\n",
       "      <td>The Hills</td>\n",
       "      <td>The Weeknd</td>\n",
       "    </tr>\n",
       "    <tr>\n",
       "      <th>21</th>\n",
       "      <td>2015</td>\n",
       "      <td>See You Again</td>\n",
       "      <td>Wiz Khalifa Featuring Charlie Puth</td>\n",
       "    </tr>\n",
       "    <tr>\n",
       "      <th>22</th>\n",
       "      <td>2015</td>\n",
       "      <td>What Do You Mean?</td>\n",
       "      <td>Justin Bieber</td>\n",
       "    </tr>\n",
       "    <tr>\n",
       "      <th>23</th>\n",
       "      <td>2015</td>\n",
       "      <td>Sugar</td>\n",
       "      <td>Maroon 5</td>\n",
       "    </tr>\n",
       "    <tr>\n",
       "      <th>24</th>\n",
       "      <td>2018</td>\n",
       "      <td>Nice For What</td>\n",
       "      <td>Drake</td>\n",
       "    </tr>\n",
       "    <tr>\n",
       "      <th>25</th>\n",
       "      <td>2018</td>\n",
       "      <td>Meant To Be</td>\n",
       "      <td>Bebe Rexha &amp; Florida Georgia Line</td>\n",
       "    </tr>\n",
       "    <tr>\n",
       "      <th>26</th>\n",
       "      <td>2018</td>\n",
       "      <td>Havana</td>\n",
       "      <td>Camila Cabello Featuring Young Thug</td>\n",
       "    </tr>\n",
       "    <tr>\n",
       "      <th>27</th>\n",
       "      <td>2018</td>\n",
       "      <td>Thank U, Next</td>\n",
       "      <td>Ariana Grande</td>\n",
       "    </tr>\n",
       "    <tr>\n",
       "      <th>28</th>\n",
       "      <td>2018</td>\n",
       "      <td>Better Now</td>\n",
       "      <td>Post Malone</td>\n",
       "    </tr>\n",
       "    <tr>\n",
       "      <th>29</th>\n",
       "      <td>2018</td>\n",
       "      <td>I Like It</td>\n",
       "      <td>Cardi B, Bad Bunny &amp; J Balvin</td>\n",
       "    </tr>\n",
       "    <tr>\n",
       "      <th>30</th>\n",
       "      <td>2018</td>\n",
       "      <td>Lucid Dreams</td>\n",
       "      <td>Juice WRLD</td>\n",
       "    </tr>\n",
       "    <tr>\n",
       "      <th>31</th>\n",
       "      <td>2018</td>\n",
       "      <td>God's Plan</td>\n",
       "      <td>Drake</td>\n",
       "    </tr>\n",
       "    <tr>\n",
       "      <th>32</th>\n",
       "      <td>2018</td>\n",
       "      <td>Sicko Mode</td>\n",
       "      <td>Travis Scott</td>\n",
       "    </tr>\n",
       "    <tr>\n",
       "      <th>33</th>\n",
       "      <td>2018</td>\n",
       "      <td>Girls Like You</td>\n",
       "      <td>Maroon 5 Featuring Cardi B</td>\n",
       "    </tr>\n",
       "    <tr>\n",
       "      <th>34</th>\n",
       "      <td>2018</td>\n",
       "      <td>Psycho</td>\n",
       "      <td>Post Malone Featuring Ty Dolla $ign</td>\n",
       "    </tr>\n",
       "    <tr>\n",
       "      <th>35</th>\n",
       "      <td>2018</td>\n",
       "      <td>In My Feelings</td>\n",
       "      <td>Drake</td>\n",
       "    </tr>\n",
       "  </tbody>\n",
       "</table>\n",
       "</div>"
      ]
     },
     "metadata": {},
     "output_type": "display_data"
    }
   ],
   "source": [
    "#filter rows in year 2014, 2015, and 2018\n",
    "songs_14_15_18 = df[(df['peak_date'].dt.year == 2014)\\\n",
    "                    | (df['peak_date'].dt.year == 2015)\\\n",
    "                    | (df['peak_date'].dt.year == 2018)].reset_index(drop=True)\n",
    "\n",
    "#add new column as year\n",
    "songs_14_15_18['year'] = songs_14_15_18['peak_date'].dt.year\n",
    "\n",
    "songs_14_15_18[['year','song_name','artist']].sort_values('year').reset_index(drop=True)"
   ]
  },
  {
   "attachments": {},
   "cell_type": "markdown",
   "metadata": {
    "datalore": {
     "hide_input_from_viewers": false,
     "hide_output_from_viewers": false,
     "node_id": "acsB2a3nBO0jUTLuHwgOy9",
     "report_properties": {
      "y": 93
     },
     "type": "MD"
    }
   },
   "source": [
    "### Q3: How many Bruno Mars's songs in the chart?"
   ]
  },
  {
   "cell_type": "code",
   "execution_count": 38,
   "metadata": {
    "datalore": {
     "hide_input_from_viewers": false,
     "hide_output_from_viewers": false,
     "node_id": "uzaNWgtOfOoQBc3NNWl9DN",
     "report_properties": {
      "y": 96
     },
     "type": "CODE"
    },
    "vscode": {
     "languageId": "python"
    }
   },
   "outputs": [
    {
     "data": {
      "text/html": [
       "<div>\n",
       "<style scoped>\n",
       "    .dataframe tbody tr th:only-of-type {\n",
       "        vertical-align: middle;\n",
       "    }\n",
       "\n",
       "    .dataframe tbody tr th {\n",
       "        vertical-align: top;\n",
       "    }\n",
       "\n",
       "    .dataframe thead th {\n",
       "        text-align: right;\n",
       "    }\n",
       "</style>\n",
       "<table border=\"1\" class=\"dataframe\">\n",
       "  <thead>\n",
       "    <tr style=\"text-align: right;\">\n",
       "      <th></th>\n",
       "      <th>no</th>\n",
       "      <th>song_name</th>\n",
       "      <th>artist</th>\n",
       "      <th>peak_date</th>\n",
       "    </tr>\n",
       "  </thead>\n",
       "  <tbody>\n",
       "    <tr>\n",
       "      <th>0</th>\n",
       "      <td>1</td>\n",
       "      <td>Uptown Funk!</td>\n",
       "      <td>Mark Ronson Featuring Bruno Mars</td>\n",
       "      <td>2015-01-17</td>\n",
       "    </tr>\n",
       "    <tr>\n",
       "      <th>1</th>\n",
       "      <td>22</td>\n",
       "      <td>Just The Way You Are</td>\n",
       "      <td>Bruno Mars</td>\n",
       "      <td>2010-10-02</td>\n",
       "    </tr>\n",
       "    <tr>\n",
       "      <th>2</th>\n",
       "      <td>30</td>\n",
       "      <td>That's What I Like</td>\n",
       "      <td>Bruno Mars</td>\n",
       "      <td>2017-05-13</td>\n",
       "    </tr>\n",
       "    <tr>\n",
       "      <th>3</th>\n",
       "      <td>45</td>\n",
       "      <td>Locked Out Of Heaven</td>\n",
       "      <td>Bruno Mars</td>\n",
       "      <td>2012-12-22</td>\n",
       "    </tr>\n",
       "    <tr>\n",
       "      <th>4</th>\n",
       "      <td>54</td>\n",
       "      <td>Grenade</td>\n",
       "      <td>Bruno Mars</td>\n",
       "      <td>2011-01-08</td>\n",
       "    </tr>\n",
       "  </tbody>\n",
       "</table>\n",
       "</div>"
      ]
     },
     "metadata": {},
     "output_type": "display_data"
    }
   ],
   "source": [
    "#filter rows which have 'Bruno Mars' in artist column\n",
    "\n",
    "#create empty list\n",
    "results = []\n",
    "\n",
    "#add data that include word 'Bruno Mars' in artist column using for loop\n",
    "for index, i in enumerate(df['artist']):\n",
    "    if 'Bruno Mars' in i:\n",
    "        results.append(df.loc[index])\n",
    "\n",
    "#convert results to dataframe format\n",
    "bnm = pd.DataFrame(results)\n",
    "\n",
    "#show only date in peak_date column (if not, time will be included)\n",
    "bnm['peak_date'] = bnm['peak_date'].dt.date\n",
    "\n",
    "#show data\n",
    "bnm.reset_index(drop=True)"
   ]
  },
  {
   "attachments": {},
   "cell_type": "markdown",
   "metadata": {
    "datalore": {
     "hide_input_from_viewers": false,
     "hide_output_from_viewers": false,
     "node_id": "9pq3H23YogoVlKgdxgYDCV",
     "report_properties": {
      "y": 99
     },
     "type": "MD"
    }
   },
   "source": [
    "There are 4 Bruno Mars's songs and 1 song he featured in."
   ]
  }
 ],
 "metadata": {
  "datalore": {
   "base_environment": "default",
   "computation_mode": "JUPYTER",
   "package_manager": "pip",
   "packages": [],
   "version": 1
  },
  "kernelspec": {
   "display_name": "Python",
   "language": "python",
   "name": "python"
  }
 },
 "nbformat": 4,
 "nbformat_minor": 4
}
